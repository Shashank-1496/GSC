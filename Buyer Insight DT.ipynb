{
 "cells": [
  {
   "cell_type": "code",
   "execution_count": 1,
   "id": "916450ca",
   "metadata": {},
   "outputs": [],
   "source": [
    "import pandas as pd\n",
    "import matplotlib.pyplot as plt\n",
    "import seaborn as sns\n",
    "from sklearn.model_selection import train_test_split\n",
    "from sklearn.preprocessing import StandardScaler\n",
    "from sklearn.tree import DecisionTreeClassifier\n",
    "from sklearn.metrics import accuracy_score\n",
    "\n",
    "# Load the dataset\n",
    "df = pd.read_csv('Churn_Modelling.csv')"
   ]
  },
  {
   "cell_type": "code",
   "execution_count": 2,
   "id": "ea5de1bd",
   "metadata": {},
   "outputs": [],
   "source": [
    "# Drop unnecessary columns\n",
    "df.drop(columns=['RowNumber', 'CustomerId', 'Surname', 'Geography', 'NumOfProducts', 'Gender'], inplace=True)\n"
   ]
  },
  {
   "cell_type": "code",
   "execution_count": 3,
   "id": "3f27d303",
   "metadata": {},
   "outputs": [],
   "source": [
    "# Separate features and target variable\n",
    "X = df.drop(columns=['Exited']).values\n",
    "Y = df['Exited'].values\n"
   ]
  },
  {
   "cell_type": "code",
   "execution_count": 4,
   "id": "cf40f099",
   "metadata": {},
   "outputs": [],
   "source": [
    "# Split data into train and test sets\n",
    "X_train, X_test, Y_train, Y_test = train_test_split(X, Y, test_size=0.3, random_state=80)\n"
   ]
  },
  {
   "cell_type": "code",
   "execution_count": 5,
   "id": "e6a26d76",
   "metadata": {},
   "outputs": [],
   "source": [
    "# Feature scaling\n",
    "sc = StandardScaler()\n",
    "X_train = sc.fit_transform(X_train)\n",
    "X_test = sc.transform(X_test)"
   ]
  },
  {
   "cell_type": "code",
   "execution_count": 6,
   "id": "1c3351af",
   "metadata": {},
   "outputs": [
    {
     "data": {
      "text/plain": [
       "DecisionTreeClassifier(random_state=80)"
      ]
     },
     "execution_count": 6,
     "metadata": {},
     "output_type": "execute_result"
    }
   ],
   "source": [
    "# Train decision tree model\n",
    "model = DecisionTreeClassifier(random_state=80)\n",
    "model.fit(X_train, Y_train)\n"
   ]
  },
  {
   "cell_type": "code",
   "execution_count": 7,
   "id": "ce3365be",
   "metadata": {},
   "outputs": [
    {
     "name": "stdout",
     "output_type": "stream",
     "text": [
      "Enter the New Customer's CreditScore: 600\n",
      "Enter the New Customer's Age: 50\n",
      "Enter the New Customer's Tenure: 4\n",
      "Enter the New Customer's Balance: 44444\n",
      "Enter the New Customer's HasCrCard: 1\n",
      "Enter the New Customer's IsActiveMember: 0\n",
      "Enter the New EstimatedSalary: 54654\n"
     ]
    }
   ],
   "source": [
    "# Input for the new customer\n",
    "CreditScore = int(input(\"Enter the New Customer's CreditScore: \"))\n",
    "Age = int(input(\"Enter the New Customer's Age: \"))\n",
    "Tenure = int(input(\"Enter the New Customer's Tenure: \"))\n",
    "Balance = int(input(\"Enter the New Customer's Balance: \"))\n",
    "HasCrCard = int(input(\"Enter the New Customer's HasCrCard: \"))\n",
    "IsActiveMember = int(input(\"Enter the New Customer's IsActiveMember: \"))\n",
    "EstimatedSalary = int(input(\"Enter the New EstimatedSalary: \"))"
   ]
  },
  {
   "cell_type": "code",
   "execution_count": 8,
   "id": "69d530c2",
   "metadata": {},
   "outputs": [],
   "source": [
    "# Create a DataFrame for the new customer\n",
    "newCust = pd.DataFrame({\n",
    "    'CreditScore': [CreditScore],\n",
    "    'Age': [Age],\n",
    "    'Tenure': [Tenure],\n",
    "    'Balance': [Balance],\n",
    "    'HasCrCard': [HasCrCard],\n",
    "    'IsActiveMember': [IsActiveMember],\n",
    "    'EstimatedSalary': [EstimatedSalary]\n",
    "})"
   ]
  },
  {
   "cell_type": "code",
   "execution_count": 9,
   "id": "75b7a346",
   "metadata": {},
   "outputs": [
    {
     "name": "stderr",
     "output_type": "stream",
     "text": [
      "D:\\SHASH\\Anaconda\\lib\\site-packages\\sklearn\\base.py:443: UserWarning: X has feature names, but StandardScaler was fitted without feature names\n",
      "  warnings.warn(\n"
     ]
    }
   ],
   "source": [
    "# Feature scaling for the new customer\n",
    "newCust_scaled = sc.transform(newCust)\n"
   ]
  },
  {
   "cell_type": "code",
   "execution_count": 10,
   "id": "1061a911",
   "metadata": {},
   "outputs": [
    {
     "name": "stdout",
     "output_type": "stream",
     "text": [
      "[0]\n",
      "Customer Will Not Buy the Product\n"
     ]
    }
   ],
   "source": [
    "# Predict for the new customer\n",
    "result = model.predict(newCust_scaled)\n",
    "print(result)\n",
    "\n",
    "if result == 1:\n",
    "    print(\"Customer will Buy the Product\")\n",
    "elif result == 0:\n",
    "    print(\"Customer Will Not Buy the Product\")\n"
   ]
  },
  {
   "cell_type": "code",
   "execution_count": 11,
   "id": "4ea224c3",
   "metadata": {},
   "outputs": [
    {
     "name": "stdout",
     "output_type": "stream",
     "text": [
      "Accuracy of the Model: 74.5%\n"
     ]
    }
   ],
   "source": [
    "# Model evaluation\n",
    "Y_pred = model.predict(X_test)\n",
    "accuracy = accuracy_score(Y_test, Y_pred)\n",
    "print(\"Accuracy of the Model: {0}%\".format(accuracy * 100))"
   ]
  },
  {
   "cell_type": "code",
   "execution_count": 12,
   "id": "99184047",
   "metadata": {},
   "outputs": [
    {
     "data": {
      "text/plain": [
       "<Figure size 1000x500 with 0 Axes>"
      ]
     },
     "execution_count": 12,
     "metadata": {},
     "output_type": "execute_result"
    },
    {
     "data": {
      "text/plain": [
       "<Figure size 1000x500 with 0 Axes>"
      ]
     },
     "metadata": {},
     "output_type": "display_data"
    }
   ],
   "source": [
    "# Visualize predictions\n",
    "sns.set(style=\"whitegrid\")\n",
    "plt.figure(figsize=(10, 5))\n"
   ]
  },
  {
   "cell_type": "code",
   "execution_count": 13,
   "id": "c77cbd71",
   "metadata": {},
   "outputs": [
    {
     "data": {
      "image/png": "[encoded data removed]",
      "text/plain": [
       "<Figure size 640x480 with 1 Axes>"
      ]
     },
     "metadata": {},
     "output_type": "display_data"
    }
   ],
   "source": [
    "# Bar graph for \"Buying\" vs \"Not Buying\" on the entire test set\n",
    "plt.subplot(1, 2, 2)\n",
    "sns.countplot(x=Y_test, palette=[\"red\", \"green\"])\n",
    "plt.title(\"Actual Results (Entire Test Set)\")\n",
    "plt.xlabel(\"Result\")\n",
    "plt.ylabel(\"Count\")\n",
    "\n",
    "plt.tight_layout()\n",
    "plt.show()\n"
   ]
  },
  {
   "cell_type": "code",
   "execution_count": 14,
   "id": "fa2bb567",
   "metadata": {},
   "outputs": [],
   "source": [
    "import pandas as pd\n",
    "import matplotlib.pyplot as plt\n",
    "import seaborn as sns\n",
    "from sklearn.model_selection import train_test_split\n",
    "from sklearn.preprocessing import StandardScaler\n",
    "from sklearn.tree import DecisionTreeClassifier\n",
    "from sklearn.metrics import accuracy_score\n",
    "import tkinter as tk\n",
    "from tkinter import ttk\n",
    "\n",
    "def predict_customer(model, sc, data):\n",
    "    newCust = [data]\n",
    "    result = model.predict(sc.transform(newCust))\n",
    "    return result\n",
    "\n",
    "def visualize_results(Y_test, Y_pred):\n",
    "    sns.set(style=\"whitegrid\")\n",
    "    plt.figure(figsize=(10, 5))\n",
    "\n",
    "    # Bar graph for \"Buying\" vs \"Not Buying\" on the entire test set\n",
    "    plt.subplot(1, 2, 2)\n",
    "    sns.countplot(x=Y_test, palette=[\"red\", \"green\"])\n",
    "    plt.title(\"Actual Results (Entire Test Set)\")\n",
    "    plt.xlabel(\"Result\")\n",
    "    plt.ylabel(\"Count\")\n",
    "\n",
    "    plt.tight_layout()\n",
    "    plt.show()\n",
    "\n",
    "def on_predict_button_click():\n",
    "    # Get values from the entry widgets\n",
    "    credit_score = int(entry_credit_score.get())\n",
    "    age = int(entry_age.get())\n",
    "    tenure = int(entry_tenure.get())\n",
    "    balance = int(entry_balance.get())\n",
    "    has_cr_card = int(entry_has_cr_card.get())\n",
    "    is_active_member = int(entry_is_active_member.get())\n",
    "    estimated_salary = int(entry_estimated_salary.get())\n",
    "\n",
    "    # Make prediction\n",
    "    result = predict_customer(model, sc, [credit_score, age, tenure, balance, has_cr_card, is_active_member, estimated_salary])\n",
    "    \n",
    "    # Update the result label\n",
    "    result_label.config(text=f\"Predicted result: {'Buying' if result == 1 else 'Not Buying'}\")\n",
    "\n",
    "# Load the dataset\n",
    "df = pd.read_csv('Churn_Modelling.csv')\n",
    "\n",
    "# Drop unnecessary columns\n",
    "df.drop(columns=['RowNumber', 'CustomerId', 'Surname', 'Geography', 'NumOfProducts', 'Gender'], inplace=True)\n",
    "\n",
    "# Separate features and target variable\n",
    "X = df.drop(columns=['Exited']).values\n",
    "Y = df['Exited'].values\n",
    "\n",
    "# Split data into train and test sets\n",
    "X_train, X_test, Y_train, Y_test = train_test_split(X, Y, test_size=0.3, random_state=80)\n",
    "\n",
    "# Feature scaling\n",
    "sc = StandardScaler()\n",
    "X_train = sc.fit_transform(X_train)\n",
    "X_test = sc.transform(X_test)\n",
    "\n",
    "# Train decision tree model\n",
    "model = DecisionTreeClassifier(random_state=80)\n",
    "model.fit(X_train, Y_train)\n",
    "\n",
    "# Create the main window\n",
    "root = tk.Tk()\n",
    "root.title(\"Customer Purchase Prediction\")\n",
    "\n",
    "# Create labels and entry widgets\n",
    "label_credit_score = ttk.Label(root, text=\"Credit Score:\")\n",
    "label_age = ttk.Label(root, text=\"Age:\")\n",
    "label_tenure = ttk.Label(root, text=\"Tenure:\")\n",
    "label_balance = ttk.Label(root, text=\"Balance:\")\n",
    "label_has_cr_card = ttk.Label(root, text=\"Has Credit Card (1 for Yes, 0 for No):\")\n",
    "label_is_active_member = ttk.Label(root, text=\"Is Active Member (1 for Yes, 0 for No):\")\n",
    "label_estimated_salary = ttk.Label(root, text=\"Estimated Salary:\")\n",
    "\n",
    "entry_credit_score = ttk.Entry(root)\n",
    "entry_age = ttk.Entry(root)\n",
    "entry_tenure = ttk.Entry(root)\n",
    "entry_balance = ttk.Entry(root)\n",
    "entry_has_cr_card = ttk.Entry(root)\n",
    "entry_is_active_member = ttk.Entry(root)\n",
    "entry_estimated_salary = ttk.Entry(root)\n",
    "\n",
    "result_label = ttk.Label(root, text=\"Predicted result: \")\n",
    "\n",
    "# Create the Predict button\n",
    "predict_button = ttk.Button(root, text=\"Predict\", command=on_predict_button_click)\n",
    "\n",
    "# Grid layout\n",
    "label_credit_score.grid(row=0, column=0, padx=5, pady=5, sticky=tk.W)\n",
    "entry_credit_score.grid(row=0, column=1, padx=5, pady=5)\n",
    "label_age.grid(row=1, column=0, padx=5, pady=5, sticky=tk.W)\n",
    "entry_age.grid(row=1, column=1, padx=5, pady=5)\n",
    "label_tenure.grid(row=2, column=0, padx=5, pady=5, sticky=tk.W)\n",
    "entry_tenure.grid(row=2, column=1, padx=5, pady=5)\n",
    "label_balance.grid(row=3, column=0, padx=5, pady=5, sticky=tk.W)\n",
    "entry_balance.grid(row=3, column=1, padx=5, pady=5)\n",
    "label_has_cr_card.grid(row=4, column=0, padx=5, pady=5, sticky=tk.W)\n",
    "entry_has_cr_card.grid(row=4, column=1, padx=5, pady=5)\n",
    "label_is_active_member.grid(row=5, column=0, padx=5, pady=5, sticky=tk.W)\n",
    "entry_is_active_member.grid(row=5, column=1, padx=5, pady=5)\n",
    "label_estimated_salary.grid(row=6, column=0, padx=5, pady=5, sticky=tk.W)\n",
    "entry_estimated_salary.grid(row=6, column=1, padx=5, pady=5)\n",
    "\n",
    "predict_button.grid(row=7, column=0, columnspan=2, pady=10)\n",
    "result_label.grid(row=8, column=0, columnspan=2, pady=5)\n",
    "\n",
    "# Start the main loop\n",
    "root.mainloop()\n"
   ]
  },
  {
   "cell_type": "code",
   "execution_count": 15,
   "id": "77f433c5",
   "metadata": {},
   "outputs": [
    {
     "name": "stdout",
     "output_type": "stream",
     "text": [
      "<class 'pandas.core.frame.DataFrame'>\n",
      "RangeIndex: 1000 entries, 0 to 999\n",
      "Data columns (total 7 columns):\n",
      " #   Column           Non-Null Count  Dtype  \n",
      "---  ------           --------------  -----  \n",
      " 0   CreditScore      1000 non-null   int64  \n",
      " 1   Age              1000 non-null   int64  \n",
      " 2   Tenure           1000 non-null   int64  \n",
      " 3   Balance          1000 non-null   float64\n",
      " 4   HasCrCard        1000 non-null   int64  \n",
      " 5   IsActiveMember   1000 non-null   int64  \n",
      " 6   EstimatedSalary  1000 non-null   float64\n",
      "dtypes: float64(2), int64(5)\n",
      "memory usage: 54.8 KB\n",
      "Customers in the input dataset who will not buy the product:\n",
      "     CreditScore  Age  Tenure       Balance  HasCrCard  IsActiveMember  \\\n",
      "0            402   48      10  75117.804781          1               0   \n",
      "1            735   23       5   7100.766453          1               1   \n",
      "2            570   44       4   8018.001408          0               1   \n",
      "3            406   57       2  35477.129184          0               0   \n",
      "5            320   29       3  66857.264672          1               1   \n",
      "..           ...  ...     ...           ...        ...             ...   \n",
      "992          655   32       2  16988.100605          0               0   \n",
      "993          340   27       4  19497.519990          1               0   \n",
      "996          452   25       2  90822.848870          1               1   \n",
      "997          677   41       5  75871.532116          1               1   \n",
      "998          641   33       3  59715.530599          0               0   \n",
      "\n",
      "     EstimatedSalary  \n",
      "0       69831.961134  \n",
      "1       34352.643994  \n",
      "2      103843.882603  \n",
      "3      104370.672986  \n",
      "5       61779.260004  \n",
      "..               ...  \n",
      "992     37827.031823  \n",
      "993     57289.780546  \n",
      "996     60139.046112  \n",
      "997     81376.854265  \n",
      "998    111863.585200  \n",
      "\n",
      "[666 rows x 7 columns]\n"
     ]
    }
   ],
   "source": [
    "import pandas as pd\n",
    "from sklearn.model_selection import train_test_split\n",
    "from sklearn.preprocessing import StandardScaler\n",
    "from sklearn.tree import DecisionTreeClassifier\n",
    "\n",
    "def predict_on_dataset(model, sc, input_df):\n",
    "    # Make predictions on the entire dataset\n",
    "    predictions = model.predict(sc.transform(input_df.values))\n",
    "    \n",
    "    # Filter out customers who will not buy\n",
    "    not_buying_customers = input_df[predictions == 0]\n",
    "    \n",
    "    return not_buying_customers\n",
    "\n",
    "# Load the dataset\n",
    "df = pd.read_csv('Churn_Modelling.csv')\n",
    "\n",
    "# Drop unnecessary columns\n",
    "df.drop(columns=['RowNumber', 'CustomerId', 'Surname', 'Geography', 'NumOfProducts', 'Gender'], inplace=True)\n",
    "\n",
    "# Separate features and target variable\n",
    "X = df.drop(columns=['Exited']).values\n",
    "Y = df['Exited'].values\n",
    "\n",
    "# Split data into train and test sets\n",
    "X_train, X_test, Y_train, Y_test = train_test_split(X, Y, test_size=0.3, random_state=80)\n",
    "\n",
    "# Feature scaling\n",
    "sc = StandardScaler()\n",
    "X_train = sc.fit_transform(X_train)\n",
    "X_test = sc.transform(X_test)\n",
    "\n",
    "# Train decision tree model\n",
    "model = DecisionTreeClassifier(random_state=80)\n",
    "model.fit(X_train, Y_train)\n",
    "\n",
    "# Load the input dataset from a file (modify the file path accordingly)\n",
    "input_df = pd.read_csv('synthetic_dataset.csv')\n",
    "input_df.info()\n",
    "\n",
    "\n",
    "# Use the predict_on_dataset function to get customers who will not buy\n",
    "not_buying_customers_df = predict_on_dataset(model, sc, input_df)\n",
    "\n",
    "# Display the DataFrame or save it as needed\n",
    "print(\"Customers in the input dataset who will not buy the product:\")\n",
    "print(not_buying_customers_df)\n"
   ]
  },
  {
   "cell_type": "code",
   "execution_count": 16,
   "id": "95f72647",
   "metadata": {},
   "outputs": [
    {
     "name": "stdout",
     "output_type": "stream",
     "text": [
      "<class 'pandas.core.frame.DataFrame'>\n",
      "Int64Index: 666 entries, 0 to 998\n",
      "Data columns (total 7 columns):\n",
      " #   Column           Non-Null Count  Dtype  \n",
      "---  ------           --------------  -----  \n",
      " 0   CreditScore      666 non-null    int64  \n",
      " 1   Age              666 non-null    int64  \n",
      " 2   Tenure           666 non-null    int64  \n",
      " 3   Balance          666 non-null    float64\n",
      " 4   HasCrCard        666 non-null    int64  \n",
      " 5   IsActiveMember   666 non-null    int64  \n",
      " 6   EstimatedSalary  666 non-null    float64\n",
      "dtypes: float64(2), int64(5)\n",
      "memory usage: 41.6 KB\n"
     ]
    }
   ],
   "source": [
    "not_buying_customers_df.describe()\n",
    "not_buying_customers_df.info()\n"
   ]
  }
 ],
 "metadata": {
  "kernelspec": {
   "display_name": "Python 3 (ipykernel)",
   "language": "python",
   "name": "python3"
  },
  "language_info": {
   "codemirror_mode": {
    "name": "ipython",
    "version": 3
   },
   "file_extension": ".py",
   "mimetype": "text/x-python",
   "name": "python",
   "nbconvert_exporter": "python",
   "pygments_lexer": "ipython3",
   "version": "3.9.13"
  }
 },
 "nbformat": 4,
 "nbformat_minor": 5
}
